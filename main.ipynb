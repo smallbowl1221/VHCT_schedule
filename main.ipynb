{
 "cells": [
  {
   "cell_type": "code",
   "execution_count": 2,
   "metadata": {},
   "outputs": [],
   "source": [
    "import pandas as pd\n",
    "from openpyxl import load_workbook\n",
    "from openpyxl.styles import PatternFill\n",
    "import os"
   ]
  },
  {
   "cell_type": "markdown",
   "metadata": {},
   "source": [
    "### 資料建立"
   ]
  },
  {
   "cell_type": "code",
   "execution_count": 149,
   "metadata": {},
   "outputs": [],
   "source": [
    "#參數\n",
    "YEAR=\"112\"\n",
    "MONTH=\"07\""
   ]
  },
  {
   "cell_type": "code",
   "execution_count": 150,
   "metadata": {},
   "outputs": [],
   "source": [
    "#處理指定月份\n",
    "date_df=pd.read_csv(os.path.join(\"Data\",\"calendar\",os.listdir('Data/calendar')[0]) ,encoding='big5')\n",
    "date_df[\"月份\"] = date_df[\"西元日期\"].apply(lambda x:str(x)[4:6])\n",
    "date_df = date_df[date_df['月份']==\"07\"]\n",
    "date_df.reset_index(drop=True,inplace=True)"
   ]
  },
  {
   "cell_type": "code",
   "execution_count": 151,
   "metadata": {},
   "outputs": [],
   "source": [
    "#處理範本\n",
    "Title = f\"臺北榮民總醫院新竹分院{YEAR}年{MONTH}月份白班、夜班總值日調班登記表\"\n",
    "OUTPUT_PATH = os.path.join(\"Data\",\"Output\",f\"{Title}.xlsx\")\n",
    "sample = pd.read_csv(os.path.join(\"Data\",\"database\",\"總值範本.csv\"))"
   ]
  },
  {
   "cell_type": "code",
   "execution_count": null,
   "metadata": {},
   "outputs": [],
   "source": [
    "#讀取值班人員名列"
   ]
  },
  {
   "cell_type": "markdown",
   "metadata": {},
   "source": [
    "### 排班"
   ]
  },
  {
   "cell_type": "code",
   "execution_count": 97,
   "metadata": {},
   "outputs": [],
   "source": [
    "#填表\n",
    "for _,item in date_df.iterrows():\n",
    "    row = {\"日期\":str(item['西元日期']%100),\n",
    "           \"星期\":item['星期'],\n",
    "           \"放假\":item['是否放假']}\n",
    "    sample = sample.append(row, ignore_index=True)"
   ]
  },
  {
   "cell_type": "code",
   "execution_count": 99,
   "metadata": {},
   "outputs": [],
   "source": [
    "#調整Title\n",
    "sample = pd.DataFrame([[ '日期','星期','總值一\\n(08-20)','調班1','調班2','調班3','總值二\\n(20-08)','調班1','調班2','調班3',0]],\n",
    "                      columns=sample.columns).append(sample)\n",
    "sample.columns=[Title,'','','','','','','','','','']\n",
    "sample.to_excel(OUTPUT_PATH,index=False)"
   ]
  },
  {
   "cell_type": "markdown",
   "metadata": {},
   "source": [
    "### 將放假日填上顏色"
   ]
  },
  {
   "cell_type": "code",
   "execution_count": 144,
   "metadata": {},
   "outputs": [],
   "source": [
    "# 創建一個樣式，設置背景顏色為黃色\n",
    "red_fill = PatternFill(start_color='ffff00',  fill_type='solid')\n",
    "\n",
    "# 使用 openpyxl 打開 Excel 文件\n",
    "book = load_workbook(\"fuck.xlsx\")\n",
    "sheet = book.active\n",
    "\n",
    "#將放假的日期填成黃色\n",
    "for i in sheet.iter_rows(0,sheet.max_row, 0, sheet.max_column):\n",
    "    if i[-1].value==2:\n",
    "        for col in range(0, sheet.max_column):\n",
    "            cell = sheet.cell(row=i[0].row, column=col+1)\n",
    "            cell.fill = red_fill\n",
    "book.save(OUTPUT_PATH)"
   ]
  },
  {
   "cell_type": "markdown",
   "metadata": {},
   "source": [
    "測試空間"
   ]
  },
  {
   "cell_type": "code",
   "execution_count": 17,
   "metadata": {},
   "outputs": [],
   "source": [
    "date_df=pd.read_csv(os.path.join(\"Data\",\"calendar\",os.listdir('Data/calendar')[0]) ,encoding='big5')"
   ]
  },
  {
   "cell_type": "code",
   "execution_count": 18,
   "metadata": {},
   "outputs": [],
   "source": [
    "date_before = pd.read_csv(os.path.join(\"Data\",\"calendar\",os.listdir('Data/calendar')[1]) ,encoding='big5')"
   ]
  },
  {
   "cell_type": "code",
   "execution_count": 19,
   "metadata": {},
   "outputs": [],
   "source": [
    "date_after = pd.read_csv(os.path.join(\"Data\",\"calendar\",os.listdir('Data/calendar')[2]) ,encoding='big5')"
   ]
  },
  {
   "cell_type": "code",
   "execution_count": 20,
   "metadata": {},
   "outputs": [],
   "source": [
    "date_df = pd.concat([date_before.iloc[-7:],date_df,date_after.iloc[:7]])\n",
    "date_df.reset_index(drop=True,inplace=True)"
   ]
  },
  {
   "cell_type": "code",
   "execution_count": 24,
   "metadata": {},
   "outputs": [
    {
     "name": "stdout",
     "output_type": "stream",
     "text": [
      "20221225\n"
     ]
    }
   ],
   "source": [
    "for _,item in date_df.iterrows():\n",
    "    print(item['西元日期'])\n",
    "    break"
   ]
  },
  {
   "cell_type": "code",
   "execution_count": null,
   "metadata": {},
   "outputs": [],
   "source": []
  }
 ],
 "metadata": {
  "kernelspec": {
   "display_name": "data_process",
   "language": "python",
   "name": "data_process"
  },
  "language_info": {
   "codemirror_mode": {
    "name": "ipython",
    "version": 3
   },
   "file_extension": ".py",
   "mimetype": "text/x-python",
   "name": "python",
   "nbconvert_exporter": "python",
   "pygments_lexer": "ipython3",
   "version": "3.7.10"
  },
  "orig_nbformat": 4
 },
 "nbformat": 4,
 "nbformat_minor": 2
}
