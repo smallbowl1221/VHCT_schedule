{
 "cells": [
  {
   "cell_type": "code",
   "execution_count": 45,
   "metadata": {},
   "outputs": [],
   "source": [
    "import pandas as pd\n",
    "import numpy as np\n",
    "from openpyxl import load_workbook\n",
    "from openpyxl.styles import PatternFill\n",
    "import os"
   ]
  },
  {
   "cell_type": "markdown",
   "metadata": {},
   "source": [
    "### 資料建立"
   ]
  },
  {
   "cell_type": "code",
   "execution_count": 46,
   "metadata": {},
   "outputs": [],
   "source": [
    "#輸入參數\n",
    "YEAR=\"112\"\n",
    "MONTH=\"06\""
   ]
  },
  {
   "cell_type": "code",
   "execution_count": 47,
   "metadata": {},
   "outputs": [],
   "source": [
    "#處理指定月份\n",
    "date_df=pd.read_csv(os.path.join(\"Data\",\"calendar\",os.listdir('Data/calendar')[0]) ,encoding='big5')\n",
    "date_df[\"月份\"] = date_df[\"西元日期\"].apply(lambda x:str(x)[4:6])\n",
    "date_df = date_df[date_df['月份']==\"07\"]\n",
    "date_df.reset_index(drop=True,inplace=True)"
   ]
  },
  {
   "cell_type": "code",
   "execution_count": 48,
   "metadata": {},
   "outputs": [],
   "source": [
    "date_df[\"月份\"] = date_df[\"西元日期\"].apply(lambda x:str(x)[4:6])\n",
    "date_df = date_df[date_df['月份']==MONTH]\n",
    "date_df.reset_index(drop=True,inplace=True)"
   ]
  },
  {
   "cell_type": "code",
   "execution_count": 49,
   "metadata": {},
   "outputs": [],
   "source": [
    "#處理範本\n",
    "Title = f\"臺北榮民總醫院新竹分院{YEAR}年{MONTH}月份白班、夜班總值日調班登記表\"\n",
    "OUTPUT_PATH = os.path.join(\"Data\",\"Output\",f\"{Title}.xlsx\")\n",
    "sample = pd.read_csv(os.path.join(\"Data\",\"database\",\"總值範本.csv\"))"
   ]
  },
  {
   "cell_type": "code",
   "execution_count": 74,
   "metadata": {},
   "outputs": [],
   "source": [
    "#讀取值班人員名列\n",
    "candidate_df = pd.read_excel(os.path.join(\"Data\",\"database\",\"值班人員名列.xlsx\"))\n",
    "\n",
    "#設定起始位置\n",
    "workday = candidate_df[candidate_df['平日']!='X'].index[0]          #設定平日起始點\n",
    "holiday = candidate_df[candidate_df['假日']!='X'].index[0]          #設定平日起始點\n",
    "long_holiday = candidate_df[candidate_df['連續假日']!='X'].index[0]  #設定平日起始點"
   ]
  },
  {
   "cell_type": "markdown",
   "metadata": {},
   "source": [
    "### 排班"
   ]
  },
  {
   "cell_type": "code",
   "execution_count": 75,
   "metadata": {},
   "outputs": [
    {
     "data": {
      "text/html": [
       "<div>\n",
       "<style scoped>\n",
       "    .dataframe tbody tr th:only-of-type {\n",
       "        vertical-align: middle;\n",
       "    }\n",
       "\n",
       "    .dataframe tbody tr th {\n",
       "        vertical-align: top;\n",
       "    }\n",
       "\n",
       "    .dataframe thead th {\n",
       "        text-align: right;\n",
       "    }\n",
       "</style>\n",
       "<table border=\"1\" class=\"dataframe\">\n",
       "  <thead>\n",
       "    <tr style=\"text-align: right;\">\n",
       "      <th></th>\n",
       "      <th>名稱</th>\n",
       "      <th>主管</th>\n",
       "      <th>不可夜班</th>\n",
       "      <th>備註</th>\n",
       "      <th>平日</th>\n",
       "      <th>假日</th>\n",
       "      <th>連續假日</th>\n",
       "    </tr>\n",
       "  </thead>\n",
       "  <tbody>\n",
       "    <tr>\n",
       "      <th>0</th>\n",
       "      <td>蕭正文</td>\n",
       "      <td>V</td>\n",
       "      <td>NaN</td>\n",
       "      <td>NaN</td>\n",
       "      <td>X</td>\n",
       "      <td>X</td>\n",
       "      <td>X</td>\n",
       "    </tr>\n",
       "    <tr>\n",
       "      <th>1</th>\n",
       "      <td>李騰峰</td>\n",
       "      <td>NaN</td>\n",
       "      <td>NaN</td>\n",
       "      <td>NaN</td>\n",
       "      <td>X</td>\n",
       "      <td>X</td>\n",
       "      <td>X</td>\n",
       "    </tr>\n",
       "    <tr>\n",
       "      <th>2</th>\n",
       "      <td>孫漣</td>\n",
       "      <td>V</td>\n",
       "      <td>NaN</td>\n",
       "      <td>NaN</td>\n",
       "      <td>X</td>\n",
       "      <td>X</td>\n",
       "      <td>X</td>\n",
       "    </tr>\n",
       "    <tr>\n",
       "      <th>3</th>\n",
       "      <td>方詠淳</td>\n",
       "      <td>NaN</td>\n",
       "      <td>NaN</td>\n",
       "      <td>NaN</td>\n",
       "      <td>NaN</td>\n",
       "      <td>X</td>\n",
       "      <td>X</td>\n",
       "    </tr>\n",
       "    <tr>\n",
       "      <th>4</th>\n",
       "      <td>花聖淵</td>\n",
       "      <td>NaN</td>\n",
       "      <td>NaN</td>\n",
       "      <td>NaN</td>\n",
       "      <td>NaN</td>\n",
       "      <td>X</td>\n",
       "      <td>X</td>\n",
       "    </tr>\n",
       "    <tr>\n",
       "      <th>5</th>\n",
       "      <td>李珮儀</td>\n",
       "      <td>NaN</td>\n",
       "      <td>NaN</td>\n",
       "      <td>NaN</td>\n",
       "      <td>NaN</td>\n",
       "      <td>X</td>\n",
       "      <td>X</td>\n",
       "    </tr>\n",
       "    <tr>\n",
       "      <th>6</th>\n",
       "      <td>易立邦</td>\n",
       "      <td>V</td>\n",
       "      <td>NaN</td>\n",
       "      <td>NaN</td>\n",
       "      <td>NaN</td>\n",
       "      <td>X</td>\n",
       "      <td>X</td>\n",
       "    </tr>\n",
       "    <tr>\n",
       "      <th>7</th>\n",
       "      <td>劉自</td>\n",
       "      <td>NaN</td>\n",
       "      <td>NaN</td>\n",
       "      <td>NaN</td>\n",
       "      <td>NaN</td>\n",
       "      <td>X</td>\n",
       "      <td>X</td>\n",
       "    </tr>\n",
       "    <tr>\n",
       "      <th>8</th>\n",
       "      <td>王信宏</td>\n",
       "      <td>V</td>\n",
       "      <td>NaN</td>\n",
       "      <td>NaN</td>\n",
       "      <td>NaN</td>\n",
       "      <td>X</td>\n",
       "      <td>X</td>\n",
       "    </tr>\n",
       "    <tr>\n",
       "      <th>9</th>\n",
       "      <td>吳芳育</td>\n",
       "      <td>NaN</td>\n",
       "      <td>NaN</td>\n",
       "      <td>NaN</td>\n",
       "      <td>NaN</td>\n",
       "      <td>NaN</td>\n",
       "      <td>X</td>\n",
       "    </tr>\n",
       "  </tbody>\n",
       "</table>\n",
       "</div>"
      ],
      "text/plain": [
       "    名稱   主管 不可夜班   備註   平日   假日 連續假日\n",
       "0  蕭正文    V  NaN  NaN    X    X    X\n",
       "1  李騰峰  NaN  NaN  NaN    X    X    X\n",
       "2   孫漣    V  NaN  NaN    X    X    X\n",
       "3  方詠淳  NaN  NaN  NaN  NaN    X    X\n",
       "4  花聖淵  NaN  NaN  NaN  NaN    X    X\n",
       "5  李珮儀  NaN  NaN  NaN  NaN    X    X\n",
       "6  易立邦    V  NaN  NaN  NaN    X    X\n",
       "7   劉自  NaN  NaN  NaN  NaN    X    X\n",
       "8  王信宏    V  NaN  NaN  NaN    X    X\n",
       "9  吳芳育  NaN  NaN  NaN  NaN  NaN    X"
      ]
     },
     "execution_count": 75,
     "metadata": {},
     "output_type": "execute_result"
    }
   ],
   "source": [
    "candidate_df[:10]"
   ]
  },
  {
   "cell_type": "code",
   "execution_count": null,
   "metadata": {},
   "outputs": [],
   "source": [
    "duty_officer1,duty_officer2=str(),str()\n",
    "\n",
    "while(duty_officer1==\"\" or duty_officer2==\"\"):\n",
    "\n"
   ]
  },
  {
   "cell_type": "code",
   "execution_count": null,
   "metadata": {},
   "outputs": [],
   "source": [
    "#填表\n",
    "for _,item in data_df.iterrows():\n",
    "    if itme[\"是否放假\"] == 0:\n",
    "        pass\n",
    "    elif itme[\"是否放假\"] == 2:\n",
    "        pass\n",
    "    elif itme[\"是否放假\"] == 3:\n",
    "        pass\n",
    "    row = {\"日期\":str(item['西元日期']%100),\n",
    "            \"星期\":item['星期'],\n",
    "            \"放假\":item['是否放假'],\n",
    "            \"總值一\\n(08-20)\":a,\n",
    "            \"總值二\\n(20-08)\":b}\n",
    "    sample = sample.append(row, ignore_index=True)"
   ]
  },
  {
   "cell_type": "code",
   "execution_count": 99,
   "metadata": {},
   "outputs": [],
   "source": [
    "#調整Title\n",
    "sample = pd.DataFrame([[ '日期','星期','總值一\\n(08-20)','調班1','調班2','調班3','總值二\\n(20-08)','調班1','調班2','調班3',0]],\n",
    "                      columns=sample.columns).append(sample)\n",
    "sample.columns=[Title,'','','','','','','','','','']\n",
    "sample.to_excel(OUTPUT_PATH,index=False)"
   ]
  },
  {
   "cell_type": "markdown",
   "metadata": {},
   "source": [
    "### 將放假日填上顏色"
   ]
  },
  {
   "cell_type": "code",
   "execution_count": 144,
   "metadata": {},
   "outputs": [],
   "source": [
    "# 創建一個樣式，設置背景顏色為黃色\n",
    "red_fill = PatternFill(start_color='ffff00',  fill_type='solid')\n",
    "\n",
    "# 使用 openpyxl 打開 Excel 文件\n",
    "book = load_workbook(\"fuck.xlsx\")\n",
    "sheet = book.active\n",
    "\n",
    "#將放假的日期填成黃色\n",
    "for i in sheet.iter_rows(0,sheet.max_row, 0, sheet.max_column):\n",
    "    if i[-1].value==2:\n",
    "        for col in range(0, sheet.max_column):\n",
    "            cell = sheet.cell(row=i[0].row, column=col+1)\n",
    "            cell.fill = red_fill\n",
    "book.save(OUTPUT_PATH)"
   ]
  },
  {
   "cell_type": "markdown",
   "metadata": {},
   "source": [
    "測試空間"
   ]
  },
  {
   "cell_type": "code",
   "execution_count": 36,
   "metadata": {},
   "outputs": [],
   "source": [
    "date_before = pd.read_csv(os.path.join(\"Data\",\"calendar\",os.listdir('Data/calendar')[1]) ,encoding='big5')\n",
    "date_df=pd.read_csv(os.path.join(\"Data\",\"calendar\",os.listdir('Data/calendar')[0]) ,encoding='big5')\n",
    "date_after = pd.read_csv(os.path.join(\"Data\",\"calendar\",os.listdir('Data/calendar')[2]) ,encoding='big5')"
   ]
  },
  {
   "cell_type": "code",
   "execution_count": 37,
   "metadata": {},
   "outputs": [],
   "source": [
    "date_df = pd.concat([date_before.iloc[-7:],date_df,date_after.iloc[:7]])\n",
    "date_df.reset_index(drop=True,inplace=True)"
   ]
  },
  {
   "cell_type": "code",
   "execution_count": 38,
   "metadata": {},
   "outputs": [],
   "source": [
    "begin=0\n",
    "index = 0\n",
    "count = 0 \n",
    "LONG_WEEKEND = 3 #設定為連假\n",
    "\n",
    "while( begin<len(date_df) and index<len(date_df) ):\n",
    "    if date_df.loc[index,\"是否放假\"]==2:\n",
    "        if count==0:\n",
    "            begin = index\n",
    "        count+=1\n",
    "    elif date_df.loc[index,\"是否放假\"]==0 and count!=0:\n",
    "        if count>2:\n",
    "            for shift in range(count):\n",
    "                date_df.loc[begin+shift,\"是否放假\"]=LONG_WEEKEND\n",
    "        begin=0\n",
    "        count=0\n",
    "    index+=1\n",
    "        "
   ]
  },
  {
   "cell_type": "code",
   "execution_count": null,
   "metadata": {},
   "outputs": [],
   "source": []
  }
 ],
 "metadata": {
  "kernelspec": {
   "display_name": "data_process",
   "language": "python",
   "name": "data_process"
  },
  "language_info": {
   "codemirror_mode": {
    "name": "ipython",
    "version": 3
   },
   "file_extension": ".py",
   "mimetype": "text/x-python",
   "name": "python",
   "nbconvert_exporter": "python",
   "pygments_lexer": "ipython3",
   "version": "3.7.10"
  },
  "orig_nbformat": 4
 },
 "nbformat": 4,
 "nbformat_minor": 2
}
